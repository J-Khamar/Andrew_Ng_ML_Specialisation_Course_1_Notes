{
 "cells": [
  {
   "cell_type": "markdown",
   "metadata": {},
   "source": [
    "# Simple Linear Regression Cost Function\n",
    "\n",
    "This notebook focuses on the cost function for a simple one-variable linear regression model."
   ]
  },
  {
   "cell_type": "code",
   "execution_count": 1,
   "metadata": {},
   "outputs": [],
   "source": [
    "import numpy as np "
   ]
  },
  {
   "cell_type": "markdown",
   "metadata": {},
   "source": [
    "### Data Preparation\n",
    "This code block initializes two NumPy arrays, `input_data_points` and `output_labels`, representing input features and corresponding output labels for a machine learning task."
   ]
  },
  {
   "cell_type": "code",
   "execution_count": 2,
   "metadata": {},
   "outputs": [],
   "source": [
    "# Define input data points and corresponding output labels\n",
    "input_data_points = np.array([1.0, 2.0])\n",
    "output_labels = np.array([300.0, 500.0])"
   ]
  },
  {
   "cell_type": "markdown",
   "metadata": {},
   "source": [
    "### Cost Computation Function\n",
    "This function, `compute_cost`, calculates the mean squared error cost for a linear regression model. It takes input features, output labels, weight, and bias as parameters and returns the computed cost."
   ]
  },
  {
   "cell_type": "markdown",
   "metadata": {},
   "source": [
    "<p align=\"center\">\n",
    "    <img src=\"1_lin_reg_cost.png\" alt=\"Linear Regression Cost\" />\n",
    "</p>"
   ]
  },
  {
   "cell_type": "code",
   "execution_count": 3,
   "metadata": {},
   "outputs": [],
   "source": [
    "def compute_cost(input_features, output_labels, weight, bias):\n",
    "    \"\"\"\n",
    "    Compute the mean squared error cost for a linear regression model.\n",
    "\n",
    "    Parameters:\n",
    "    - input_features: Input features as a NumPy array.\n",
    "    - output_labels: Output labels as a NumPy array.\n",
    "    - weight: Weight parameter of the linear regression model.\n",
    "    - bias: Bias parameter of the linear regression model.\n",
    "\n",
    "    Returns:\n",
    "    - cost: Mean squared error cost.\n",
    "    \"\"\"\n",
    "    m = input_features.shape[0]\n",
    "    total_cost = 0\n",
    "\n",
    "    # Calculate the total squared error\n",
    "    for i in range(m):\n",
    "        f_wb = weight * input_features[i] + bias\n",
    "        cost = (f_wb - output_labels[i]) ** 2\n",
    "        total_cost += cost\n",
    "\n",
    "    # Calculate the mean squared error\n",
    "    cost = total_cost * 1 / (2 * m)\n",
    "    return cost"
   ]
  },
  {
   "cell_type": "markdown",
   "metadata": {},
   "source": [
    "### Compute Cost for Linear Regression\n",
    "Here, `temp_cost` is calculated using the `compute_cost` function, representing the mean squared error cost for a linear regression model with specified weight (150) and bias (200) applied to the given input data points and output labels."
   ]
  },
  {
   "cell_type": "code",
   "execution_count": 4,
   "metadata": {},
   "outputs": [
    {
     "data": {
      "text/plain": [
       "625.0"
      ]
     },
     "execution_count": 4,
     "metadata": {},
     "output_type": "execute_result"
    }
   ],
   "source": [
    "# Compute the cost for a given linear regression model\n",
    "temp_cost = compute_cost(input_features=input_data_points, output_labels=output_labels, weight=150, bias=200)\n",
    "temp_cost"
   ]
  }
 ],
 "metadata": {
  "kernelspec": {
   "display_name": "Python 3",
   "language": "python",
   "name": "python3"
  },
  "language_info": {
   "codemirror_mode": {
    "name": "ipython",
    "version": 3
   },
   "file_extension": ".py",
   "mimetype": "text/x-python",
   "name": "python",
   "nbconvert_exporter": "python",
   "pygments_lexer": "ipython3",
   "version": "3.9.18"
  }
 },
 "nbformat": 4,
 "nbformat_minor": 2
}
