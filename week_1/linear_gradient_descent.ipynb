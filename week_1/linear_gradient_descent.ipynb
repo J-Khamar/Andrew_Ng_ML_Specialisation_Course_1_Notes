{
 "cells": [
  {
   "cell_type": "markdown",
   "metadata": {},
   "source": [
    "# Linear Regression Gradient Descent"
   ]
  },
  {
   "cell_type": "code",
   "execution_count": 1,
   "metadata": {},
   "outputs": [],
   "source": [
    "import numpy as np \n",
    "import matplotlib.pyplot as plt "
   ]
  },
  {
   "cell_type": "markdown",
   "metadata": {},
   "source": [
    "### Training Data Initialization\n",
    "In this section, the training data for a machine learning model is initialized. The input features are stored in the array `x_train_data`, and the corresponding output labels are stored in the array `y_train_labels`."
   ]
  },
  {
   "cell_type": "code",
   "execution_count": 2,
   "metadata": {},
   "outputs": [],
   "source": [
    "# Initialize training data for a machine learning model\n",
    "x_train_data = np.array([1.0, 2.0])\n",
    "y_train_labels = np.array([300.0, 500.0])"
   ]
  },
  {
   "cell_type": "markdown",
   "metadata": {},
   "source": [
    "### Cost Computation Function\n",
    "This function, `compute_cost`, calculates the mean squared error cost for a linear regression model. It takes input features, output labels, weight, and bias as parameters and returns the computed cost."
   ]
  },
  {
   "cell_type": "code",
   "execution_count": 3,
   "metadata": {},
   "outputs": [],
   "source": [
    "def compute_cost(input_features, output_labels, weight, bias):\n",
    "    \"\"\"\n",
    "    Compute the mean squared error cost for a linear regression model.\n",
    "\n",
    "    Parameters:\n",
    "    - input_features: Input features as a NumPy array.\n",
    "    - output_labels: Output labels as a NumPy array.\n",
    "    - weight: Weight parameter of the linear regression model.\n",
    "    - bias: Bias parameter of the linear regression model.\n",
    "\n",
    "    Returns:\n",
    "    - cost: Mean squared error cost.\n",
    "    \"\"\"\n",
    "    m = input_features.shape[0]\n",
    "    total_cost = 0\n",
    "\n",
    "    # Calculate the total squared error\n",
    "    for i in range(m):\n",
    "        f_wb = weight * input_features[i] + bias\n",
    "        cost = (f_wb - output_labels[i]) ** 2\n",
    "        total_cost += cost\n",
    "\n",
    "    # Calculate the mean squared error\n",
    "    cost = total_cost * 1 / (2 * m)\n",
    "    return cost"
   ]
  },
  {
   "cell_type": "markdown",
   "metadata": {},
   "source": [
    "### Gradient Computation Function\n",
    "The function `compute_gradient` calculates the gradient of the cost function with respect to weight and bias for a linear regression model. It takes input features, output labels, weight, and bias as parameters and returns the computed gradients."
   ]
  },
  {
   "cell_type": "markdown",
   "metadata": {},
   "source": [
    "<p align=\"center\">\n",
    "    <img src=\"2_gradient_lin_reg.png\" alt=\"Linear Regression Cost\" />\n",
    "</p>"
   ]
  },
  {
   "cell_type": "code",
   "execution_count": 4,
   "metadata": {},
   "outputs": [],
   "source": [
    "def compute_gradient(input_features, output_labels, weight, bias):\n",
    "    \"\"\"\n",
    "    Compute the gradient of the cost function with respect to weight and bias.\n",
    "\n",
    "    Parameters:\n",
    "    - input_features: Input features as a NumPy array.\n",
    "    - output_labels: Output labels as a NumPy array.\n",
    "    - weight: Weight parameter of the linear regression model.\n",
    "    - bias: Bias parameter of the linear regression model.\n",
    "\n",
    "    Returns:\n",
    "    - dj_dw: Gradient with respect to weight.\n",
    "    - dj_db: Gradient with respect to bias.\n",
    "    \"\"\"\n",
    "    m = input_features.shape[0]\n",
    "    dj_db = 0\n",
    "    dj_dw = 0\n",
    "\n",
    "    # Calculate gradients for each training example\n",
    "    for i in range(m):\n",
    "        f_wb = weight * input_features[i] + bias\n",
    "        dj_db_i = (f_wb - output_labels[i])\n",
    "        dj_dw_i = (f_wb - output_labels[i]) * input_features[i]\n",
    "        dj_db += dj_db_i\n",
    "        dj_dw += dj_dw_i\n",
    "\n",
    "    # Average gradients over all examples\n",
    "    dj_db *= (1 / m)\n",
    "    dj_dw *= (1 / m)\n",
    "\n",
    "    return dj_dw, dj_db"
   ]
  },
  {
   "cell_type": "markdown",
   "metadata": {},
   "source": [
    "### Gradient Descent Optimization\n",
    "The function `gradient_descent` performs gradient descent optimization to update the parameters of a linear regression model. It takes input features, output labels, initial weights and bias, learning rate, number of iterations, cost function, and gradient function as parameters. The updated weight, bias, cost history, and parameter history are returned."
   ]
  },
  {
   "cell_type": "markdown",
   "metadata": {},
   "source": [
    "<p align=\"center\">\n",
    "    <img src=\"3_weight_updation.png\" alt=\"Linear Regression Cost\" />\n",
    "</p>"
   ]
  },
  {
   "cell_type": "code",
   "execution_count": 11,
   "metadata": {},
   "outputs": [],
   "source": [
    "def gradient_descent(input_features, output_labels, initial_weight, initial_bias, learning_rate, num_iterations, cost_function, gradient_function):\n",
    "    \"\"\"\n",
    "    Perform gradient descent optimization to update model parameters.\n",
    "\n",
    "    Parameters:\n",
    "    - input_features: Input features as a NumPy array.\n",
    "    - output_labels: Output labels as a NumPy array.\n",
    "    - initial_weight: Initial weight parameter of the linear regression model.\n",
    "    - initial_bias: Initial bias parameter of the linear regression model.\n",
    "    - learning_rate: The learning rate for gradient descent.\n",
    "    - num_iterations: Number of iterations for gradient descent.\n",
    "    - cost_function: Cost function to be minimized.\n",
    "    - gradient_function: Function to compute the gradient of the cost function.\n",
    "\n",
    "    Returns:\n",
    "    - updated_weight: Updated weight parameter.\n",
    "    - updated_bias: Updated bias parameter.\n",
    "    - cost_history: List containing the cost at each iteration.\n",
    "    - parameter_history: List containing the parameters (weight, bias) at each iteration.\n",
    "    \"\"\"\n",
    "    cost_history = []\n",
    "    parameter_history = []\n",
    "    bias = initial_bias\n",
    "    weight = initial_weight\n",
    "\n",
    "    for i in range(num_iterations):\n",
    "        dj_dw, dj_db = gradient_function(input_features, output_labels, weight, bias)\n",
    "        bias = bias - (learning_rate * dj_db)\n",
    "        weight = weight - (learning_rate * dj_dw)\n",
    "        cost_history.append(cost_function(input_features, output_labels, weight, bias))\n",
    "        parameter_history.append([weight, bias])\n",
    "\n",
    "        # Display progress every 1000 iterations\n",
    "        if i % 1000 == 0:\n",
    "            print(f\"Iteration: {i}: \", end=\" \")\n",
    "            print(f\"Cost: {cost_history[-1]:.5f}\", end=\" \")\n",
    "            print(f\"Parameters: w: {parameter_history[-1][0]:.3f}, b: {parameter_history[-1][1]:.3f}\", end=\"\\n\\n\")\n",
    "\n",
    "    return weight, bias, cost_history, parameter_history"
   ]
  },
  {
   "cell_type": "markdown",
   "metadata": {},
   "source": [
    "### Gradient Descent Execution\n",
    "Here, gradient descent is applied to update the parameters of a linear regression model. The initial weight (`initial_weight`) and bias (`initial_bias`) are set to 0. The optimization runs for 1000 iterations with a learning rate of 0.1. The final parameters, cost history, and parameter history are obtained."
   ]
  },
  {
   "cell_type": "code",
   "execution_count": 12,
   "metadata": {},
   "outputs": [
    {
     "name": "stdout",
     "output_type": "stream",
     "text": [
      "Iteration: 0:  Cost: 79274.81250 Parameters: w: 6.500, b: 4.000\n",
      "\n",
      "Iteration: 1000:  Cost: 3.41251 Parameters: w: 194.915, b: 108.228\n",
      "\n",
      "Iteration: 2000:  Cost: 0.79290 Parameters: w: 197.549, b: 103.966\n",
      "\n",
      "Iteration: 3000:  Cost: 0.18423 Parameters: w: 198.818, b: 101.912\n",
      "\n",
      "Iteration: 4000:  Cost: 0.04281 Parameters: w: 199.430, b: 100.922\n",
      "\n",
      "Iteration: 5000:  Cost: 0.00995 Parameters: w: 199.725, b: 100.444\n",
      "\n",
      "Iteration: 6000:  Cost: 0.00231 Parameters: w: 199.868, b: 100.214\n",
      "\n",
      "Iteration: 7000:  Cost: 0.00054 Parameters: w: 199.936, b: 100.103\n",
      "\n",
      "Iteration: 8000:  Cost: 0.00012 Parameters: w: 199.969, b: 100.050\n",
      "\n",
      "Iteration: 9000:  Cost: 0.00003 Parameters: w: 199.985, b: 100.024\n",
      "\n"
     ]
    }
   ],
   "source": [
    "# Initialize parameters\n",
    "initial_weight = 0\n",
    "initial_bias = 0\n",
    "\n",
    "# Gradient descent settings\n",
    "num_iterations = 10000\n",
    "learning_rate = 0.01\n",
    "\n",
    "# Run gradient descent\n",
    "final_weight, final_bias, cost_history, parameter_history = gradient_descent(x_train_data, y_train_labels, initial_weight, initial_bias, learning_rate, num_iterations, compute_cost, compute_gradient)"
   ]
  },
  {
   "cell_type": "markdown",
   "metadata": {},
   "source": [
    "### Cost Visualization\n",
    "The code generates two plots to visualize the cost versus iteration during the gradient descent optimization. The left plot displays the entire history, while the right plot focuses on the tail of the iteration steps. This helps in observing the convergence behavior of the optimization process."
   ]
  },
  {
   "cell_type": "code",
   "execution_count": 13,
   "metadata": {},
   "outputs": [
    {
     "data": {
      "image/png": "[encoded data removed]",
      "text/plain": [
       "<Figure size 1200x400 with 2 Axes>"
      ]
     },
     "metadata": {},
     "output_type": "display_data"
    }
   ],
   "source": [
    "# Plot cost versus iteration\n",
    "fig, (ax1, ax2) = plt.subplots(1, 2, constrained_layout=True, figsize=(12, 4))\n",
    "ax1.plot(cost_history)\n",
    "ax2.plot(100 + np.arange(len(cost_history[100:])), cost_history[100:])\n",
    "ax1.set_title(\"Cost vs. Iteration\")\n",
    "ax2.set_title(\"Cost vs. Iteration (Tail)\")\n",
    "ax1.set_ylabel('Cost')\n",
    "ax2.set_ylabel('Cost')\n",
    "ax1.set_xlabel('Iteration Step')\n",
    "ax2.set_xlabel('Iteration Step')\n",
    "plt.show()"
   ]
  }
 ],
 "metadata": {
  "kernelspec": {
   "display_name": "Python 3",
   "language": "python",
   "name": "python3"
  },
  "language_info": {
   "codemirror_mode": {
    "name": "ipython",
    "version": 3
   },
   "file_extension": ".py",
   "mimetype": "text/x-python",
   "name": "python",
   "nbconvert_exporter": "python",
   "pygments_lexer": "ipython3",
   "version": "3.9.18"
  }
 },
 "nbformat": 4,
 "nbformat_minor": 2
}
