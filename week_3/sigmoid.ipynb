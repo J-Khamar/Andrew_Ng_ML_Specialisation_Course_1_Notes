{
 "cells": [
  {
   "cell_type": "markdown",
   "metadata": {},
   "source": [
    "# Sigmoid Activation and Visualization"
   ]
  },
  {
   "cell_type": "code",
   "execution_count": 7,
   "metadata": {},
   "outputs": [],
   "source": [
    "import numpy as np \n",
    "import matplotlib.pyplot as plt "
   ]
  },
  {
   "cell_type": "markdown",
   "metadata": {},
   "source": [
    "### Understanding numpy's exp function\n",
    "This code demonstrates the usage of the `numpy.exp` function, which computes the exponential of an array or a single value. The input arrays and their corresponding exponentiated values are displayed."
   ]
  },
  {
   "cell_type": "code",
   "execution_count": 8,
   "metadata": {},
   "outputs": [
    {
     "name": "stdout",
     "output_type": "stream",
     "text": [
      "Input to exp: [1 2 3]\n",
      "Output of exp: [1 2 3]\n",
      "Input to exp: 1\n",
      "Output of exp: 2.718281828459045\n"
     ]
    }
   ],
   "source": [
    "# Input array and exponent array\n",
    "input_array = np.array([1, 2, 3])\n",
    "exp_array = np.array([1, 2, 3])\n",
    "\n",
    "# Display the input and output of the exp function for arrays\n",
    "print(\"Input to exp:\", input_array)\n",
    "print(\"Output of exp:\", exp_array)\n",
    "\n",
    "# Single value input and its exponentiation\n",
    "input_val = 1\n",
    "exp_val = np.exp(input_val)\n",
    "\n",
    "# Display the input and output of the exp function for a single value\n",
    "print(\"Input to exp:\", input_val)\n",
    "print(\"Output of exp:\", exp_val)"
   ]
  },
  {
   "cell_type": "markdown",
   "metadata": {},
   "source": [
    "### Sigmoid Activation Function\n",
    "The `sigmoid_function` is a mathematical function commonly used as the activation function in logistic regression and neural networks. It transforms an input value or array using the sigmoid activation, returning values between 0 and 1. The formula is `1 / (1 + exp(-z))`."
   ]
  },
  {
   "cell_type": "markdown",
   "metadata": {},
   "source": [
    "<p align=\"center\">\n",
    "    <img src=\"0_sigmoid.png\" alt=\"Linear Regression Cost\" />\n",
    "</p>"
   ]
  },
  {
   "cell_type": "code",
   "execution_count": 9,
   "metadata": {},
   "outputs": [],
   "source": [
    "# Sigmoid Activation Function\n",
    "def sigmoid_function(z):\n",
    "    \"\"\"\n",
    "    Compute the sigmoid activation function.\n",
    "\n",
    "    Parameters:\n",
    "    - z: Input value or array.\n",
    "\n",
    "    Returns:\n",
    "    - g: Output of the sigmoid activation function.\n",
    "    \"\"\"\n",
    "    g = 1 / (1 + np.exp(-z))\n",
    "    return g"
   ]
  },
  {
   "cell_type": "markdown",
   "metadata": {},
   "source": [
    "### Applying Sigmoid Activation to a Range\n",
    "This code demonstrates the application of the sigmoid activation function (`sigmoid_function`) to a range of input values (`z_tmp`). The resulting output values are displayed in a matrix format."
   ]
  },
  {
   "cell_type": "code",
   "execution_count": 10,
   "metadata": {},
   "outputs": [
    {
     "name": "stdout",
     "output_type": "stream",
     "text": [
      "Input (z), Output (sigmoid(z))\n",
      "[[-1.00000000e+01 -9.00000000e+00 -8.00000000e+00 -7.00000000e+00\n",
      "  -6.00000000e+00 -5.00000000e+00 -4.00000000e+00 -3.00000000e+00\n",
      "  -2.00000000e+00 -1.00000000e+00  0.00000000e+00  1.00000000e+00\n",
      "   2.00000000e+00  3.00000000e+00  4.00000000e+00  5.00000000e+00\n",
      "   6.00000000e+00  7.00000000e+00  8.00000000e+00  9.00000000e+00\n",
      "   1.00000000e+01]\n",
      " [ 4.53978687e-05  1.23394576e-04  3.35350130e-04  9.11051194e-04\n",
      "   2.47262316e-03  6.69285092e-03  1.79862100e-02  4.74258732e-02\n",
      "   1.19202922e-01  2.68941421e-01  5.00000000e-01  7.31058579e-01\n",
      "   8.80797078e-01  9.52574127e-01  9.82013790e-01  9.93307149e-01\n",
      "   9.97527377e-01  9.99088949e-01  9.99664650e-01  9.99876605e-01\n",
      "   9.99954602e-01]]\n"
     ]
    }
   ],
   "source": [
    "# Generate a range of input values\n",
    "z_tmp = np.arange(-10, 11)\n",
    "\n",
    "# Apply the sigmoid activation function to the range\n",
    "y = sigmoid_function(z_tmp)\n",
    "\n",
    "# Display the input (z) and corresponding output (sigmoid(z))\n",
    "print(\"Input (z), Output (sigmoid(z))\")\n",
    "print(np.vstack([z_tmp, y]))"
   ]
  },
  {
   "cell_type": "markdown",
   "metadata": {},
   "source": [
    "### Plotting z versus Sigmoid(z)\n",
    "This plot visualizes the sigmoid activation function by showcasing the relationship between the input values (`z_tmp`) and the corresponding sigmoid output values. The sigmoid function squashes input values to a range between 0 and 1."
   ]
  },
  {
   "cell_type": "code",
   "execution_count": 11,
   "metadata": {},
   "outputs": [
    {
     "data": {
      "image/png": "[encoded data removed]",
      "text/plain": [
       "<Figure size 500x300 with 1 Axes>"
      ]
     },
     "metadata": {},
     "output_type": "display_data"
    }
   ],
   "source": [
    "# Plotting z vs sigmoid(z)\n",
    "fig, ax = plt.subplots(1, 1, figsize=(5, 3))\n",
    "ax.plot(z_tmp, y, c=\"b\")\n",
    "\n",
    "ax.set_title(\"Sigmoid Function\")\n",
    "ax.set_ylabel('sigmoid(z)')\n",
    "ax.set_xlabel('z')\n",
    "plt.show()"
   ]
  }
 ],
 "metadata": {
  "kernelspec": {
   "display_name": "Python 3",
   "language": "python",
   "name": "python3"
  },
  "language_info": {
   "codemirror_mode": {
    "name": "ipython",
    "version": 3
   },
   "file_extension": ".py",
   "mimetype": "text/x-python",
   "name": "python",
   "nbconvert_exporter": "python",
   "pygments_lexer": "ipython3",
   "version": "3.9.18"
  }
 },
 "nbformat": 4,
 "nbformat_minor": 2
}
