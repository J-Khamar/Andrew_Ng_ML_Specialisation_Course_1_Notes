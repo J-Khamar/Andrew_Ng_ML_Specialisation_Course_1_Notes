{
 "cells": [
  {
   "cell_type": "markdown",
   "metadata": {},
   "source": [
    "# Gradient Descent for Logistic Regression"
   ]
  },
  {
   "cell_type": "code",
   "execution_count": 1,
   "metadata": {},
   "outputs": [],
   "source": [
    "import numpy as np\n",
    "import matplotlib.pyplot as plt\n",
    "import copy"
   ]
  },
  {
   "cell_type": "markdown",
   "metadata": {},
   "source": [
    "### Define Training Data for Logistic Regression\n",
    "In this section, training data for a logistic regression problem is defined. The input features are stored in the array `X_train_logistic`, and the corresponding binary output labels (0 or 1) are stored in the array `y_train_logistic`."
   ]
  },
  {
   "cell_type": "code",
   "execution_count": 2,
   "metadata": {},
   "outputs": [],
   "source": [
    "# Define training data for logistic regression\n",
    "X_train_logistic = np.array([[0.5, 1.5], [1, 1], [1.5, 0.5], [3, 0.5], [2, 2], [1, 2.5]])\n",
    "y_train_logistic = np.array([0, 0, 0, 1, 1, 1])"
   ]
  },
  {
   "cell_type": "markdown",
   "metadata": {},
   "source": [
    "### Sigmoid Activation Function\n",
    "The function `sigmoid_function` implements the sigmoid activation function. It takes an input value (`z`) and returns the output of the sigmoid function (`g`)."
   ]
  },
  {
   "cell_type": "code",
   "execution_count": 3,
   "metadata": {},
   "outputs": [],
   "source": [
    "def sigmoid_function(z):\n",
    "    \"\"\"\n",
    "    Sigmoid activation function.\n",
    "\n",
    "    Parameters:\n",
    "    - z: Input value.\n",
    "\n",
    "    Returns:\n",
    "    - g: Output of the sigmoid function.\n",
    "    \"\"\"\n",
    "    g = 1 / (1 + np.exp(-z))\n",
    "    return g\n"
   ]
  },
  {
   "cell_type": "markdown",
   "metadata": {},
   "source": [
    "### Logistic Regression Cost Computation\n",
    "The function `compute_cost_logistic` computes the logistic regression cost using the sigmoid activation function. It takes input features matrix (`X`), binary output labels (`y`), weight, and bias as parameters and returns the computed logistic regression cost."
   ]
  },
  {
   "cell_type": "code",
   "execution_count": 4,
   "metadata": {},
   "outputs": [],
   "source": [
    "def compute_cost_logistic(X, y, weight, bias):\n",
    "    \"\"\"\n",
    "    Compute the logistic regression cost using the sigmoid activation function.\n",
    "\n",
    "    Parameters:\n",
    "    - X: Input features matrix as a NumPy array.\n",
    "    - y: Binary output labels (0 or 1) as a NumPy array.\n",
    "    - weight: Weight parameter of the logistic regression model.\n",
    "    - bias: Bias parameter of the logistic regression model.\n",
    "\n",
    "    Returns:\n",
    "    - cost: Logistic regression cost.\n",
    "    \"\"\"\n",
    "    m = X.shape[0]\n",
    "    cost = 0.0\n",
    "\n",
    "    # Calculate the logistic regression cost using sigmoid activation\n",
    "    for i in range(m):\n",
    "        z_i = np.dot(X[i], weight) + bias\n",
    "        f_wb_i = sigmoid_function(z_i)\n",
    "        cost += (-y[i] * np.log(f_wb_i)) - ((1 - y[i]) * np.log(1 - f_wb_i))\n",
    "\n",
    "    cost *= (1 / m)\n",
    "    return cost"
   ]
  },
  {
   "cell_type": "markdown",
   "metadata": {},
   "source": [
    "### Gradient Computation for Logistic Regression\n",
    "The function `compute_gradient_logistic` computes the gradient of the logistic regression cost function. It takes input features matrix (`X`), binary output labels (`y`), weight, and bias as parameters and returns the partial derivatives of the cost with respect to bias (`dj_db`) and weights (`dj_dw`)."
   ]
  },
  {
   "cell_type": "markdown",
   "metadata": {},
   "source": [
    "<p align=\"center\">\n",
    "    <img src=\"4_gradient_log.png\" alt=\"Linear Regression Cost\" />\n",
    "</p>"
   ]
  },
  {
   "cell_type": "code",
   "execution_count": 5,
   "metadata": {},
   "outputs": [],
   "source": [
    "def compute_gradient_logistic(X, y, weight, bias):\n",
    "    \"\"\"\n",
    "    Compute the gradient of the logistic regression cost function.\n",
    "\n",
    "    Parameters:\n",
    "    - X: Input features matrix as a NumPy array.\n",
    "    - y: Binary output labels (0 or 1) as a NumPy array.\n",
    "    - weight: Weight parameter of the logistic regression model.\n",
    "    - bias: Bias parameter of the logistic regression model.\n",
    "\n",
    "    Returns:\n",
    "    - dj_db: Partial derivative of the cost with respect to the bias.\n",
    "    - dj_dw: Partial derivatives of the cost with respect to the weights.\n",
    "    \"\"\"\n",
    "    m, n = X.shape\n",
    "    dj_dw = np.zeros((n))\n",
    "    dj_db = 0.0\n",
    "\n",
    "    # Calculate partial derivatives using sigmoid activation\n",
    "    for i in range(m):\n",
    "        f_wb_i = sigmoid_function(np.dot(X[i], weight) + bias)\n",
    "        err_i = f_wb_i - y[i]\n",
    "\n",
    "        for j in range(n):\n",
    "            dj_dw[j] = dj_dw[j] + err_i * X[i, j]\n",
    "        dj_db = dj_db + err_i\n",
    "\n",
    "    dj_dw = dj_dw / m\n",
    "    dj_db = dj_db / m\n",
    "\n",
    "    return dj_db, dj_dw"
   ]
  },
  {
   "cell_type": "markdown",
   "metadata": {},
   "source": [
    "### Example Computation of Gradient for Logistic Regression\n",
    "The code demonstrates an example computation of the gradient for logistic regression using the function `compute_gradient_logistic`. The input features (`X_tmp_example`), binary output labels (`y_tmp_example`), weight (`w_tmp_example`), and bias (`b_tmp_example`) are used for the calculation. The computed partial derivatives of the cost with respect to bias (`dj_db_tmp_example`) and weights (`dj_dw_tmp_example`) are displayed."
   ]
  },
  {
   "cell_type": "code",
   "execution_count": 6,
   "metadata": {},
   "outputs": [
    {
     "name": "stdout",
     "output_type": "stream",
     "text": [
      "Partial derivative of cost with respect to bias (dj_db): 0.49861806546328574\n",
      "Partial derivatives of cost with respect to weights (dj_dw): [0.498333393278696, 0.49883942983996693]\n"
     ]
    }
   ],
   "source": [
    "# Example computation of gradient for logistic regression\n",
    "X_tmp_example = np.array([[0.5, 1.5], [1, 1], [1.5, 0.5], [3, 0.5], [2, 2], [1, 2.5]])\n",
    "y_tmp_example = np.array([0, 0, 0, 1, 1, 1])\n",
    "w_tmp_example = np.array([2.0, 3.0])\n",
    "b_tmp_example = 1.0\n",
    "dj_db_tmp_example, dj_dw_tmp_example = compute_gradient_logistic(X_tmp_example, y_tmp_example, w_tmp_example, b_tmp_example)\n",
    "\n",
    "# Display computed gradients\n",
    "print(f\"Partial derivative of cost with respect to bias (dj_db): {dj_db_tmp_example}\")\n",
    "print(f\"Partial derivatives of cost with respect to weights (dj_dw): {dj_dw_tmp_example.tolist()}\")"
   ]
  },
  {
   "cell_type": "markdown",
   "metadata": {},
   "source": [
    "### Logistic Regression Gradient Descent Optimization\n",
    "The function `logistic_regression_gradient_descent` performs gradient descent optimization for logistic regression. It takes input features matrix (`X`), binary output labels (`y`), initial weights (`initial_weights`), initial bias (`initial_bias`), learning rate (`learning_rate`), and the number of iterations (`num_iterations`) as parameters. The final weights (`final_weights`), final bias (`final_bias`), and a list containing the cost at each iteration (`cost_history`) are returned."
   ]
  },
  {
   "cell_type": "markdown",
   "metadata": {},
   "source": [
    "<p align=\"center\">\n",
    "    <img src=\"5_weight_updation_log.png\" alt=\"Linear Regression Cost\" />\n",
    "</p>"
   ]
  },
  {
   "cell_type": "code",
   "execution_count": 7,
   "metadata": {},
   "outputs": [],
   "source": [
    "def logistic_regression_gradient_descent(X, y, initial_weights, initial_bias, learning_rate, num_iterations):\n",
    "    \"\"\"\n",
    "    Perform gradient descent optimization for logistic regression.\n",
    "\n",
    "    Parameters:\n",
    "    - X: Input features matrix as a NumPy array.\n",
    "    - y: Binary output labels (0 or 1) as a NumPy array.\n",
    "    - initial_weights: Initial weights for the logistic regression model.\n",
    "    - initial_bias: Initial bias for the logistic regression model.\n",
    "    - learning_rate: Learning rate.\n",
    "    - num_iterations: Number of iterations for gradient descent.\n",
    "\n",
    "    Returns:\n",
    "    - final_weights: Final weights after gradient descent.\n",
    "    - final_bias: Final bias after gradient descent.\n",
    "    - cost_history: List containing the cost at each iteration.\n",
    "    \"\"\"\n",
    "    cost_history = []\n",
    "    weights = copy.deepcopy(initial_weights)\n",
    "    bias = initial_bias\n",
    "\n",
    "    for i in range(num_iterations):\n",
    "        partial_bias, partial_weights = compute_gradient_logistic(X, y, weights, bias)\n",
    "\n",
    "        weights = weights - (learning_rate * partial_weights)\n",
    "        bias = bias - (learning_rate * partial_bias)\n",
    "\n",
    "        cost_history.append(compute_cost_logistic(X, y, weights, bias))\n",
    "\n",
    "        if i % 1000 == 0:\n",
    "            print(f\"Iteration: {i}, Cost: {cost_history[-1]}\")\n",
    "\n",
    "    return weights, bias, cost_history"
   ]
  },
  {
   "cell_type": "markdown",
   "metadata": {},
   "source": [
    "### Example Usage of Logistic Regression Gradient Descent\n",
    "The code demonstrates an example usage of the `logistic_regression_gradient_descent` function for logistic regression. Initial weights (`initial_weights_tmp`), initial bias (`initial_bias_tmp`), learning rate (`learning_rate_tmp`), and the number of iterations (`num_iterations_tmp`) are specified. The final weights (`final_weights_tmp`), final bias (`final_bias_tmp`), and a list containing the cost at each iteration (`cost_history_tmp`) are printed."
   ]
  },
  {
   "cell_type": "code",
   "execution_count": 8,
   "metadata": {},
   "outputs": [
    {
     "name": "stdout",
     "output_type": "stream",
     "text": [
      "Iteration: 0, Cost: 0.6846104685605738\n",
      "Iteration: 1000, Cost: 0.1590977666870456\n",
      "Iteration: 2000, Cost: 0.0846006417693008\n",
      "Iteration: 3000, Cost: 0.05705327279402531\n",
      "Iteration: 4000, Cost: 0.04290759421682007\n",
      "Iteration: 5000, Cost: 0.034338477298845684\n",
      "Iteration: 6000, Cost: 0.028603798022120097\n",
      "Iteration: 7000, Cost: 0.024501569608792996\n",
      "Iteration: 8000, Cost: 0.02142370332569295\n",
      "Iteration: 9000, Cost: 0.019030137124109114\n",
      "\n",
      "Updated parameters: w:[5.28123029 5.07815608], b:-14.222409982019837\n"
     ]
    }
   ],
   "source": [
    "# Example usage of logistic_regression_gradient_descent\n",
    "initial_weights_tmp = np.zeros_like(X_train_logistic[0])\n",
    "initial_bias_tmp = 0.0\n",
    "learning_rate_tmp = 0.1\n",
    "num_iterations_tmp = 10000\n",
    "\n",
    "final_weights_tmp, final_bias_tmp, cost_history_tmp = logistic_regression_gradient_descent(X_train_logistic, y_train_logistic, initial_weights_tmp, initial_bias_tmp, learning_rate_tmp, num_iterations_tmp)\n",
    "print(f\"\\nUpdated parameters: w:{final_weights_tmp}, b:{final_bias_tmp}\")"
   ]
  },
  {
   "cell_type": "code",
   "execution_count": 9,
   "metadata": {},
   "outputs": [
    {
     "data": {
      "image/png": "[encoded data removed]",
      "text/plain": [
       "<Figure size 1200x400 with 2 Axes>"
      ]
     },
     "metadata": {},
     "output_type": "display_data"
    }
   ],
   "source": [
    "# Plotting cost versus iteration for logistic regression\n",
    "fig, (subplot1, subplot2) = plt.subplots(1, 2, constrained_layout=True, figsize=(12, 4))\n",
    "subplot1.plot(cost_history_tmp)\n",
    "subplot2.plot(100 + np.arange(len(cost_history_tmp[100:])), cost_history_tmp[100:])\n",
    "subplot1.set_title(\"Cost vs. Iteration\")\n",
    "subplot2.set_title(\"Cost vs. Iteration (Tail)\")\n",
    "subplot1.set_ylabel('Cost')\n",
    "subplot2.set_ylabel('Cost')\n",
    "subplot1.set_xlabel('Iteration Step')\n",
    "subplot2.set_xlabel('Iteration Step')\n",
    "plt.show()"
   ]
  }
 ],
 "metadata": {
  "kernelspec": {
   "display_name": "Python 3",
   "language": "python",
   "name": "python3"
  },
  "language_info": {
   "codemirror_mode": {
    "name": "ipython",
    "version": 3
   },
   "file_extension": ".py",
   "mimetype": "text/x-python",
   "name": "python",
   "nbconvert_exporter": "python",
   "pygments_lexer": "ipython3",
   "version": "3.9.18"
  }
 },
 "nbformat": 4,
 "nbformat_minor": 2
}
