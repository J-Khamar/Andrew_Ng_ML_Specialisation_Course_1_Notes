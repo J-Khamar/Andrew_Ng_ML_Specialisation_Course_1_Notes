{
 "cells": [
  {
   "cell_type": "markdown",
   "metadata": {},
   "source": [
    "# Multiple Linear Regression"
   ]
  },
  {
   "cell_type": "code",
   "execution_count": 1,
   "metadata": {},
   "outputs": [],
   "source": [
    "import copy\n",
    "import numpy as np\n",
    "import matplotlib.pyplot as plt"
   ]
  },
  {
   "cell_type": "markdown",
   "metadata": {},
   "source": [
    "### Training Data Initialization\n",
    "In this section, the training data for a machine learning model is initialized. The input features are stored in the array `X_train_data`, and the corresponding output labels are stored in the array `y_train_labels`."
   ]
  },
  {
   "cell_type": "code",
   "execution_count": 2,
   "metadata": {},
   "outputs": [],
   "source": [
    "# Initialize training data for a machine learning model\n",
    "X_train_data = np.array([[2104, 5, 1, 45], [1416, 3, 2, 40], [852, 2, 1, 35]])\n",
    "y_train_labels = np.array([460, 232, 178])"
   ]
  },
  {
   "cell_type": "markdown",
   "metadata": {},
   "source": [
    "### Parameters Initialization\n",
    "Here, the initial bias (`initial_bias`) and initial weight (`initial_weight`) parameters for a machine learning model are set with specific values."
   ]
  },
  {
   "cell_type": "code",
   "execution_count": 3,
   "metadata": {},
   "outputs": [],
   "source": [
    "# Initialize parameters\n",
    "initial_bias = 785.1811367994083\n",
    "initial_weight = np.array([0.39133535, 18.75376741, -53.36032453, -26.42131618])"
   ]
  },
  {
   "cell_type": "markdown",
   "metadata": {},
   "source": [
    "### Prediction Function (Single Loop)\n",
    "The function `predict_single_loop` predicts the output of a linear regression model for a single data point using a loop. It takes input features, weight, and bias as parameters and returns the predicted output."
   ]
  },
  {
   "cell_type": "code",
   "execution_count": 4,
   "metadata": {},
   "outputs": [],
   "source": [
    "def predict_single_loop(input_features, weight, bias):\n",
    "    \"\"\"\n",
    "    Predict the output of a linear regression model for a single data point using a loop.\n",
    "\n",
    "    Parameters:\n",
    "    - input_features: Input features as a NumPy array.\n",
    "    - weight: Weight parameter of the linear regression model.\n",
    "    - bias: Bias parameter of the linear regression model.\n",
    "\n",
    "    Returns:\n",
    "    - prediction: Predicted output for the given input features.\n",
    "    \"\"\"\n",
    "    n = input_features.shape[0]\n",
    "    prediction = 0\n",
    "\n",
    "    # Calculate the weighted sum of input features\n",
    "    for i in range(n):\n",
    "        p_i = weight[i] * input_features[i]\n",
    "        prediction += p_i\n",
    "\n",
    "    # Add bias to the weighted sum\n",
    "    prediction += bias\n",
    "    return prediction"
   ]
  },
  {
   "cell_type": "markdown",
   "metadata": {},
   "source": [
    "### Extract First Row of Training Data\n",
    "In this section, the first row of the training data (`x_first_row`) is extracted from the array `X_train_data`."
   ]
  },
  {
   "cell_type": "code",
   "execution_count": 5,
   "metadata": {},
   "outputs": [],
   "source": [
    "# Extract the first row of training data\n",
    "x_first_row = X_train_data[0]"
   ]
  },
  {
   "cell_type": "markdown",
   "metadata": {},
   "source": [
    "### Prediction for First Row\n",
    "The code predicts the output for the first row of the training data using the initialized parameters (`initial_weight` and `initial_bias`). The result is stored in the variable `prediction_result`."
   ]
  },
  {
   "cell_type": "code",
   "execution_count": 6,
   "metadata": {},
   "outputs": [
    {
     "data": {
      "text/plain": [
       "459.9999976194083"
      ]
     },
     "execution_count": 6,
     "metadata": {},
     "output_type": "execute_result"
    }
   ],
   "source": [
    "# Predict the output for the first row using the initialized parameters\n",
    "prediction_result = predict_single_loop(x_first_row, initial_weight, initial_bias)\n",
    "prediction_result"
   ]
  },
  {
   "cell_type": "markdown",
   "metadata": {},
   "source": [
    "### Prediction Function (Dot Product)\n",
    "The function `predict_single_dot` predicts the output of a linear regression model for a single data point using dot product. It takes input features, weight, and bias as parameters and returns the predicted output."
   ]
  },
  {
   "cell_type": "code",
   "execution_count": 7,
   "metadata": {},
   "outputs": [],
   "source": [
    "def predict_single_dot(input_features, weight, bias):\n",
    "    \"\"\"\n",
    "    Predict the output of a linear regression model for a single data point using dot product.\n",
    "\n",
    "    Parameters:\n",
    "    - input_features: Input features as a NumPy array.\n",
    "    - weight: Weight parameter of the linear regression model.\n",
    "    - bias: Bias parameter of the linear regression model.\n",
    "\n",
    "    Returns:\n",
    "    - prediction: Predicted output for the given input features.\n",
    "    \"\"\"\n",
    "    f_wb = input_features.dot(weight)\n",
    "    f_wb += bias\n",
    "    return f_wb"
   ]
  },
  {
   "cell_type": "markdown",
   "metadata": {},
   "source": [
    "### Prediction for First Row (Dot Product)\n",
    "The code predicts the output for the first row of the training data using dot product, utilizing the initialized parameters (`initial_weight` and `initial_bias`). The result is stored in the variable `prediction_result_dot`."
   ]
  },
  {
   "cell_type": "code",
   "execution_count": 8,
   "metadata": {},
   "outputs": [
    {
     "data": {
      "text/plain": [
       "459.9999976194083"
      ]
     },
     "execution_count": 8,
     "metadata": {},
     "output_type": "execute_result"
    }
   ],
   "source": [
    "# Predict the output for the first row using dot product\n",
    "prediction_result_dot = predict_single_dot(x_first_row, initial_weight, initial_bias)\n",
    "prediction_result_dot"
   ]
  },
  {
   "cell_type": "markdown",
   "metadata": {},
   "source": [
    "### Cost Computation Function (Matrix)\n",
    "The function `compute_cost_matrix` calculates the mean squared error cost for a linear regression model using dot product. It takes input features matrix (`X`), output labels (`y`), weight, and bias as parameters and returns the computed cost."
   ]
  },
  {
   "cell_type": "markdown",
   "metadata": {},
   "source": [
    "<p align=\"center\">\n",
    "    <img src=\"0_cost_multiple.png\" alt=\"Linear Regression Cost\" />\n",
    "</p>"
   ]
  },
  {
   "cell_type": "code",
   "execution_count": 9,
   "metadata": {},
   "outputs": [],
   "source": [
    "def compute_cost_matrix(X, y, weight, bias):\n",
    "    \"\"\"\n",
    "    Compute the mean squared error cost for a linear regression model using dot product.\n",
    "\n",
    "    Parameters:\n",
    "    - X: Input features matrix as a NumPy array.\n",
    "    - y: Output labels as a NumPy array.\n",
    "    - weight: Weight parameter of the linear regression model.\n",
    "    - bias: Bias parameter of the linear regression model.\n",
    "\n",
    "    Returns:\n",
    "    - cost: Mean squared error cost.\n",
    "    \"\"\"\n",
    "    m = X.shape[0]\n",
    "    cost = 0.0\n",
    "\n",
    "    # Calculate the total squared error using dot product\n",
    "    for i in range(m):\n",
    "        f_wb_i = np.dot(X[i], weight) + bias\n",
    "        cost += ((f_wb_i - y[i]) ** 2)\n",
    "\n",
    "    # Calculate the mean squared error\n",
    "    cost *= (1 / (2 * m))\n",
    "    return cost"
   ]
  },
  {
   "cell_type": "markdown",
   "metadata": {},
   "source": [
    "### Compute Cost using Dot Product\n",
    "The code computes the mean squared error cost for a linear regression model using dot product. The parameters (`initial_weight` and `initial_bias`) are applied to the training data (`X_train_data` and `y_train_labels`). The result is stored in the variable `computed_cost`."
   ]
  },
  {
   "cell_type": "code",
   "execution_count": 10,
   "metadata": {},
   "outputs": [
    {
     "data": {
      "text/plain": [
       "1.5578904045996674e-12"
      ]
     },
     "execution_count": 10,
     "metadata": {},
     "output_type": "execute_result"
    }
   ],
   "source": [
    "# Compute the cost using dot product\n",
    "computed_cost = compute_cost_matrix(X_train_data, y_train_labels, initial_weight, initial_bias)\n",
    "computed_cost"
   ]
  },
  {
   "cell_type": "markdown",
   "metadata": {},
   "source": [
    "### Gradient Computation Function (Matrix)\n",
    "The function `compute_gradient_matrix` calculates the gradient of the cost function with respect to weight and bias using dot product. It takes input features matrix (`X`), output labels (`y`), weight, and bias as parameters and returns the computed gradients."
   ]
  },
  {
   "cell_type": "markdown",
   "metadata": {},
   "source": [
    "<p align=\"center\">\n",
    "    <img src=\"1_gradient_multiple.png\" alt=\"Linear Regression Cost\" />\n",
    "</p>"
   ]
  },
  {
   "cell_type": "code",
   "execution_count": 11,
   "metadata": {},
   "outputs": [],
   "source": [
    "def compute_gradient_matrix(X, y, weight, bias):\n",
    "    \"\"\"\n",
    "    Compute the gradient of the cost function with respect to weight and bias using dot product.\n",
    "\n",
    "    Parameters:\n",
    "    - X: Input features matrix as a NumPy array.\n",
    "    - y: Output labels as a NumPy array.\n",
    "    - weight: Weight parameter of the linear regression model.\n",
    "    - bias: Bias parameter of the linear regression model.\n",
    "\n",
    "    Returns:\n",
    "    - dj_dw: Gradient with respect to weight.\n",
    "    - dj_db: Gradient with respect to bias.\n",
    "    \"\"\"\n",
    "    m, n = X.shape\n",
    "    dj_dw = np.zeros((n))\n",
    "    dj_db = 0.0\n",
    "\n",
    "    # Calculate gradients using dot product\n",
    "    for i in range(m):\n",
    "        err = (np.dot(X[i], weight) + bias) - y[i]\n",
    "        for j in range(n):\n",
    "            dj_dw[j] = dj_dw[j] + err * X[i, j]\n",
    "        dj_db = dj_db + err\n",
    "\n",
    "    dj_dw = dj_dw / m\n",
    "    dj_db = dj_db / m\n",
    "\n",
    "    return dj_db, dj_dw"
   ]
  },
  {
   "cell_type": "markdown",
   "metadata": {},
   "source": [
    "### Compute Gradients using Dot Product\n",
    "The code computes the gradients of the cost function with respect to weight and bias using dot product. The parameters (`initial_weight` and `initial_bias`) are applied to the training data (`X_train_data` and `y_train_labels`). The results are printed as `temp_dj_db` and `temp_dj_dw`."
   ]
  },
  {
   "cell_type": "code",
   "execution_count": 12,
   "metadata": {},
   "outputs": [
    {
     "name": "stdout",
     "output_type": "stream",
     "text": [
      "-1.6739251122999121e-06 [-2.72623574e-03 -6.27197255e-06 -2.21745574e-06 -6.92403377e-05]\n"
     ]
    }
   ],
   "source": [
    "# Compute gradients using dot product\n",
    "temp_dj_db, temp_dj_dw = compute_gradient_matrix(X_train_data, y_train_labels, initial_weight, initial_bias)\n",
    "print(temp_dj_db, temp_dj_dw)"
   ]
  },
  {
   "cell_type": "markdown",
   "metadata": {},
   "source": [
    "### Gradient Descent Optimization (Matrix)\n",
    "The function `gradient_descent_matrix` performs gradient descent optimization to update the parameters of a linear regression model using dot product. It takes input features matrix (`X`), output labels (`y`), initial weight, initial bias, cost function, gradient function, learning rate, and number of iterations as parameters. The updated weight, bias, and cost history are returned."
   ]
  },
  {
   "cell_type": "markdown",
   "metadata": {},
   "source": [
    "<p align=\"center\">\n",
    "    <img src=\"2_weight_updation_multiple.png\" alt=\"Linear Regression Cost\" />\n",
    "</p>"
   ]
  },
  {
   "cell_type": "code",
   "execution_count": 13,
   "metadata": {},
   "outputs": [],
   "source": [
    "def gradient_descent_matrix(X, y, initial_weight, initial_bias, cost_function, gradient_function, learning_rate, num_iterations):\n",
    "    \"\"\"\n",
    "    Perform gradient descent optimization to update model parameters using dot product.\n",
    "\n",
    "    Parameters:\n",
    "    - X: Input features matrix as a NumPy array.\n",
    "    - y: Output labels as a NumPy array.\n",
    "    - initial_weight: Initial weight parameter of the linear regression model.\n",
    "    - initial_bias: Initial bias parameter of the linear regression model.\n",
    "    - cost_function: Cost function to be minimized.\n",
    "    - gradient_function: Function to compute the gradient of the cost function.\n",
    "    - learning_rate: The learning rate for gradient descent.\n",
    "    - num_iterations: Number of iterations for gradient descent.\n",
    "\n",
    "    Returns:\n",
    "    - updated_weight: Updated weight parameter.\n",
    "    - updated_bias: Updated bias parameter.\n",
    "    - cost_history: List containing the cost at each iteration.\n",
    "    \"\"\"\n",
    "    cost_history = []\n",
    "    weight = copy.deepcopy(initial_weight)\n",
    "    bias = initial_bias\n",
    "\n",
    "    for i in range(num_iterations):\n",
    "        dj_db, dj_dw = gradient_function(X, y, weight, bias)\n",
    "        weight = weight - learning_rate * dj_dw\n",
    "        bias = bias - learning_rate * dj_db\n",
    "\n",
    "        cost_history.append(cost_function(X, y, weight, bias))\n",
    "\n",
    "        # Display progress every 100 iterations\n",
    "        if i % 100 == 0:\n",
    "            print(f\"Iteration: {i}, Loss: {cost_history[-1]}\")\n",
    "\n",
    "    return weight, bias, cost_history"
   ]
  },
  {
   "cell_type": "markdown",
   "metadata": {},
   "source": [
    "### Gradient Descent Execution (Matrix)\n",
    "Here, gradient descent is applied to update the parameters of a linear regression model using dot product. The initial weights (`initial_weights`) and bias (`initial_bias`) are set to zero. The optimization runs for 1000 iterations with a learning rate of 5.0e-7. The final parameters, including bias and weights, are displayed along with predictions and target values for each data point."
   ]
  },
  {
   "cell_type": "code",
   "execution_count": 15,
   "metadata": {},
   "outputs": [
    {
     "name": "stdout",
     "output_type": "stream",
     "text": [
      "Iteration: 0, Loss: 2529.46295223163\n",
      "Iteration: 100, Loss: 695.9903158352028\n",
      "Iteration: 200, Loss: 694.9206979323058\n",
      "Iteration: 300, Loss: 693.8604297851191\n",
      "Iteration: 400, Loss: 692.8094286135915\n",
      "Iteration: 500, Loss: 691.7676123706057\n",
      "Iteration: 600, Loss: 690.7348997354993\n",
      "Iteration: 700, Loss: 689.7112101076165\n",
      "Iteration: 800, Loss: 688.6964635999458\n",
      "Iteration: 900, Loss: 687.6905810327936\n",
      "\n",
      "Gradient Descent: Bias: -0.00,   Weights: [ 0.20396569  0.00374919 -0.0112487  -0.0658614 ] \n",
      "\n",
      "Prediction: 426.19, Target Value: 460\n",
      "Prediction: 286.17, Target Value: 232\n",
      "Prediction: 171.47, Target Value: 178\n"
     ]
    }
   ],
   "source": [
    "# Initialize parameters\n",
    "initial_weights = np.zeros_like(initial_weight)\n",
    "initial_bias = 0.0\n",
    "\n",
    "# Gradient descent settings\n",
    "num_iterations = 1000\n",
    "learning_rate = 5.0e-7\n",
    "\n",
    "# Run gradient descent using dot product\n",
    "final_weights, final_bias, cost_history = gradient_descent_matrix(X_train_data, y_train_labels, initial_weights, initial_bias, compute_cost_matrix, compute_gradient_matrix, learning_rate, num_iterations)\n",
    "\n",
    "print(f\"\\nGradient Descent: Bias: {final_bias:0.2f},   Weights: {final_weights} \\n\")\n",
    "\n",
    "m, _ = X_train_data.shape\n",
    "for i in range(m):\n",
    "    print(f\"Prediction: {np.dot(X_train_data[i], final_weights) + final_bias:0.2f}, Target Value: {y_train_labels[i]}\")"
   ]
  },
  {
   "cell_type": "markdown",
   "metadata": {},
   "source": [
    "### Cost Visualization\n",
    "The code generates two plots to visualize the cost versus iteration during the gradient descent optimization using dot product. The left plot displays the entire history, while the right plot focuses on the tail of the iteration steps. This helps in observing the convergence behavior of the optimization process."
   ]
  },
  {
   "cell_type": "code",
   "execution_count": 16,
   "metadata": {},
   "outputs": [
    {
     "data": {
      "image/png": "[encoded data removed]",
      "text/plain": [
       "<Figure size 1200x400 with 2 Axes>"
      ]
     },
     "metadata": {},
     "output_type": "display_data"
    }
   ],
   "source": [
    "# Plot cost versus iteration\n",
    "fig, (ax1, ax2) = plt.subplots(1, 2, constrained_layout=True, figsize=(12, 4))\n",
    "ax1.plot(cost_history)\n",
    "ax2.plot(100 + np.arange(len(cost_history[100:])), cost_history[100:])\n",
    "ax1.set_title(\"Cost vs. Iteration\")\n",
    "ax2.set_title(\"Cost vs. Iteration (Tail)\")\n",
    "ax1.set_ylabel('Cost')\n",
    "ax2.set_ylabel('Cost')\n",
    "ax1.set_xlabel('Iteration Step')\n",
    "ax2.set_xlabel('Iteration Step')\n",
    "plt.show()"
   ]
  },
  {
   "cell_type": "markdown",
   "metadata": {},
   "source": [
    "### Feature Normalization Function (Matrix)\n",
    "The function `normalize_features_matrix` normalizes features in a matrix by subtracting the mean and dividing by the standard deviation. It takes an input features matrix (`X`) and returns the normalized features matrix (`normalized_X`)."
   ]
  },
  {
   "cell_type": "code",
   "execution_count": 17,
   "metadata": {},
   "outputs": [],
   "source": [
    "def normalize_features_matrix(X):\n",
    "    \"\"\"\n",
    "    Normalize features in a matrix by subtracting mean and dividing by standard deviation.\n",
    "\n",
    "    Parameters:\n",
    "    - X: Input features matrix as a NumPy array.\n",
    "\n",
    "    Returns:\n",
    "    - normalized_X: Normalized features matrix.\n",
    "    \"\"\"\n",
    "    means = np.mean(X, axis=0)\n",
    "    stds = np.std(X, axis=0)\n",
    "\n",
    "    epsilon = 1e-8\n",
    "    stds[stds < epsilon] = epsilon\n",
    "\n",
    "    normalized_X = (X - means) / stds\n",
    "\n",
    "    return normalized_X"
   ]
  },
  {
   "cell_type": "markdown",
   "metadata": {},
   "source": [
    "### Feature Normalization (Matrix)\n",
    "In this section, the features in the training data (`X_train_scaled`) are normalized using the `normalize_features_matrix` function."
   ]
  },
  {
   "cell_type": "code",
   "execution_count": 18,
   "metadata": {},
   "outputs": [],
   "source": [
    "# Normalize features in the training data\n",
    "X_train_scaled = normalize_features_matrix(X_train_data)"
   ]
  },
  {
   "cell_type": "markdown",
   "metadata": {},
   "source": [
    "### Gradient Descent Execution with Normalized Features (Matrix)\n",
    "Here, gradient descent is applied to update the parameters of a linear regression model using normalized features. The initial weights (`initial_weights_normalized`) and bias (`initial_bias_normalized`) are set to zero. The optimization runs for 1000 iterations with a learning rate of 0.01. The final parameters, including bias and weights, are displayed along with predictions and target values for each data point."
   ]
  },
  {
   "cell_type": "code",
   "execution_count": 21,
   "metadata": {},
   "outputs": [
    {
     "name": "stdout",
     "output_type": "stream",
     "text": [
      "Iteration: 0, Loss: 48254.77176163629\n",
      "Iteration: 100, Loss: 5582.449635877936\n",
      "Iteration: 200, Loss: 745.7966398649062\n",
      "Iteration: 300, Loss: 99.90278945590845\n",
      "Iteration: 400, Loss: 13.383073446502468\n",
      "Iteration: 500, Loss: 1.7928151365063023\n",
      "Iteration: 600, Loss: 0.24016858825984924\n",
      "Iteration: 700, Loss: 0.032173471419421285\n",
      "Iteration: 800, Loss: 0.004310033482954698\n",
      "Iteration: 900, Loss: 0.0005773834781962354\n",
      "\n",
      "Gradient Descent (Normalized Features): Bias: 289.99,   Weights: [ 38.05168398  41.54320558 -30.98791712  36.34190238] \n",
      "\n",
      "Prediction: 459.99, Target Value: 460\n",
      "Prediction: 231.99, Target Value: 232\n",
      "Prediction: 177.99, Target Value: 178\n"
     ]
    }
   ],
   "source": [
    "# Initialize parameters\n",
    "initial_weights_normalized = np.zeros_like(initial_weight)\n",
    "initial_bias_normalized = 0.0\n",
    "\n",
    "# Gradient descent settings\n",
    "num_iterations_normalized = 1000\n",
    "learning_rate_normalized = 0.01\n",
    "\n",
    "# Run gradient descent on normalized features\n",
    "final_weights_normalized, final_bias_normalized, cost_history_normalized = gradient_descent_matrix(X_train_scaled, y_train_labels, initial_weights_normalized, initial_bias_normalized, compute_cost_matrix, compute_gradient_matrix, learning_rate_normalized, num_iterations_normalized)\n",
    "\n",
    "print(f\"\\nGradient Descent (Normalized Features): Bias: {final_bias_normalized:0.2f},   Weights: {final_weights_normalized} \\n\")\n",
    "\n",
    "m, _ = X_train_data.shape\n",
    "for i in range(m):\n",
    "    print(f\"Prediction: {np.dot(X_train_scaled[i], final_weights_normalized) + final_bias_normalized:0.2f}, Target Value: {y_train_labels[i]}\")"
   ]
  },
  {
   "cell_type": "markdown",
   "metadata": {},
   "source": [
    "### Cost Visualization with Normalized Features (Matrix)\n",
    "The code generates two plots to visualize the cost versus iteration during the gradient descent optimization with normalized features. The left plot displays the entire history, while the right plot focuses on the tail of the iteration steps. This helps in observing the convergence behavior of the optimization process with normalized features."
   ]
  },
  {
   "cell_type": "code",
   "execution_count": 22,
   "metadata": {},
   "outputs": [
    {
     "data": {
      "image/png": "[encoded data removed]",
      "text/plain": [
       "<Figure size 1200x400 with 2 Axes>"
      ]
     },
     "metadata": {},
     "output_type": "display_data"
    }
   ],
   "source": [
    "# Plot cost versus iteration for normalized features\n",
    "fig, (ax1, ax2) = plt.subplots(1, 2, constrained_layout=True, figsize=(12, 4))\n",
    "ax1.plot(cost_history_normalized)\n",
    "ax2.plot(100 + np.arange(len(cost_history_normalized[100:])), cost_history_normalized[100:])\n",
    "ax1.set_title(\"Cost vs. Iteration (Normalized Features)\")\n",
    "ax2.set_title(\"Cost vs. Iteration (Normalized Features, Tail)\")\n",
    "ax1.set_ylabel('Cost')\n",
    "ax2.set_ylabel('Cost')\n",
    "ax1.set_xlabel('Iteration Step')\n",
    "ax2.set_xlabel('Iteration Step')\n",
    "plt.show()"
   ]
  }
 ],
 "metadata": {
  "kernelspec": {
   "display_name": "Python 3",
   "language": "python",
   "name": "python3"
  },
  "language_info": {
   "codemirror_mode": {
    "name": "ipython",
    "version": 3
   },
   "file_extension": ".py",
   "mimetype": "text/x-python",
   "name": "python",
   "nbconvert_exporter": "python",
   "pygments_lexer": "ipython3",
   "version": "3.9.18"
  }
 },
 "nbformat": 4,
 "nbformat_minor": 2
}
